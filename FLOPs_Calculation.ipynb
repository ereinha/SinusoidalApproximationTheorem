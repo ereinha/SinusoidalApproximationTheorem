{
  "cells": [
    {
      "cell_type": "code",
      "execution_count": null,
      "metadata": {
        "id": "9yDjirhu-fg2"
      },
      "outputs": [],
      "source": [
        "import numpy as np\n",
        "import torch"
      ]
    },
    {
      "cell_type": "markdown",
      "metadata": {
        "id": "O8Mnwurfc9bu"
      },
      "source": [
        "# Numpy FLOPs Estimates"
      ]
    },
    {
      "cell_type": "code",
      "execution_count": null,
      "metadata": {
        "id": "QO83ezRI-h0T"
      },
      "outputs": [],
      "source": [
        "array = np.ones(1024, dtype=float)"
      ]
    },
    {
      "cell_type": "code",
      "execution_count": null,
      "metadata": {
        "colab": {
          "base_uri": "https://localhost:8080/"
        },
        "id": "z4COTYAt-qu-",
        "outputId": "cce5e6a8-018f-4637-caf8-762880dc5527"
      },
      "outputs": [
        {
          "name": "stdout",
          "output_type": "stream",
          "text": [
            "930 ns ± 27.5 ns per loop (mean ± std. dev. of 7 runs, 10000000 loops each)\n"
          ]
        }
      ],
      "source": [
        "%timeit -n 10_000_000 array * array"
      ]
    },
    {
      "cell_type": "code",
      "execution_count": null,
      "metadata": {
        "colab": {
          "base_uri": "https://localhost:8080/"
        },
        "id": "NwdJMOvc-u2v",
        "outputId": "67144290-8cee-4d5b-b543-1d61eef83d78"
      },
      "outputs": [
        {
          "name": "stdout",
          "output_type": "stream",
          "text": [
            "918 ns ± 24.2 ns per loop (mean ± std. dev. of 7 runs, 10000000 loops each)\n"
          ]
        }
      ],
      "source": [
        "%timeit -n 10_000_000 array + array"
      ]
    },
    {
      "cell_type": "code",
      "execution_count": null,
      "metadata": {
        "colab": {
          "base_uri": "https://localhost:8080/"
        },
        "id": "o-Qh-EBI-xQ1",
        "outputId": "2dfa4ff2-1435-4f51-e8f9-cebfa57b948c"
      },
      "outputs": [
        {
          "name": "stdout",
          "output_type": "stream",
          "text": [
            "11.4 µs ± 79.7 ns per loop (mean ± std. dev. of 7 runs, 10000000 loops each)\n"
          ]
        }
      ],
      "source": [
        "%timeit -n 10_000_000 np.sin(array)"
      ]
    },
    {
      "cell_type": "code",
      "execution_count": null,
      "metadata": {
        "colab": {
          "base_uri": "https://localhost:8080/"
        },
        "id": "u2n5VBdf-0xn",
        "outputId": "ddf584b1-f0ba-45dd-c298-bff14934b195"
      },
      "outputs": [
        {
          "name": "stdout",
          "output_type": "stream",
          "text": [
            "1.44 µs ± 30.3 ns per loop (mean ± std. dev. of 7 runs, 10000000 loops each)\n"
          ]
        }
      ],
      "source": [
        "%timeit -n 10_000_000 np.maximum(0, array)"
      ]
    },
    {
      "cell_type": "markdown",
      "metadata": {
        "id": "GXzm4LIKc7MA"
      },
      "source": [
        "# Torch FLOPs Estimates"
      ]
    },
    {
      "cell_type": "code",
      "execution_count": null,
      "metadata": {
        "id": "sNxaA1gZdDsz"
      },
      "outputs": [],
      "source": [
        "tensor = torch.ones(1024, dtype=float)"
      ]
    },
    {
      "cell_type": "code",
      "execution_count": null,
      "metadata": {
        "colab": {
          "base_uri": "https://localhost:8080/"
        },
        "id": "lPjLPkT1c6H-",
        "outputId": "7c7d886f-22d8-4660-82af-117bb13eaca4"
      },
      "outputs": [
        {
          "name": "stdout",
          "output_type": "stream",
          "text": [
            "1.72 µs ± 34.7 ns per loop (mean ± std. dev. of 7 runs, 10000000 loops each)\n"
          ]
        }
      ],
      "source": [
        "%timeit -n 10_000_000 tensor * tensor"
      ]
    },
    {
      "cell_type": "code",
      "execution_count": null,
      "metadata": {
        "colab": {
          "base_uri": "https://localhost:8080/"
        },
        "id": "_9BnGlvSc6IA",
        "outputId": "5a33775b-05d1-4b50-b3f1-4e6721efee87"
      },
      "outputs": [
        {
          "name": "stdout",
          "output_type": "stream",
          "text": [
            "1.82 µs ± 31.3 ns per loop (mean ± std. dev. of 7 runs, 10000000 loops each)\n"
          ]
        }
      ],
      "source": [
        "%timeit -n 10_000_000 tensor + tensor"
      ]
    },
    {
      "cell_type": "code",
      "execution_count": null,
      "metadata": {
        "colab": {
          "base_uri": "https://localhost:8080/"
        },
        "id": "5Dn79hg1c6IB",
        "outputId": "8f648f15-a7a3-4a45-b6a3-34e55cc3780e"
      },
      "outputs": [
        {
          "name": "stdout",
          "output_type": "stream",
          "text": [
            "6.44 µs ± 34.4 ns per loop (mean ± std. dev. of 7 runs, 10000000 loops each)\n"
          ]
        }
      ],
      "source": [
        "%timeit -n 10_000_000 torch.sin(tensor)"
      ]
    },
    {
      "cell_type": "code",
      "execution_count": null,
      "metadata": {
        "colab": {
          "base_uri": "https://localhost:8080/"
        },
        "id": "s_I4DZObMqYg",
        "outputId": "8e00c030-7aed-4b3f-efbe-070ca56ff25b"
      },
      "outputs": [
        {
          "name": "stdout",
          "output_type": "stream",
          "text": [
            "1.97 µs ± 22.1 ns per loop (mean ± std. dev. of 7 runs, 10000000 loops each)\n"
          ]
        }
      ],
      "source": [
        "%timeit -n 10_000_000 torch.nn.functional.relu(tensor)"
      ]
    },
    {
      "cell_type": "code",
      "execution_count": null,
      "metadata": {
        "id": "ij5DtLPZMaOG"
      },
      "outputs": [],
      "source": []
    }
  ],
  "metadata": {
    "colab": {
      "provenance": []
    },
    "kernelspec": {
      "display_name": "Python 3",
      "name": "python3"
    },
    "language_info": {
      "name": "python"
    }
  },
  "nbformat": 4,
  "nbformat_minor": 0
}
